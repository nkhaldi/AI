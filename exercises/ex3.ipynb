{
 "cells": [
  {
   "cell_type": "markdown",
   "metadata": {},
   "source": [
    "### Основы NumPy"
   ]
  },
  {
   "cell_type": "markdown",
   "metadata": {},
   "source": [
    "1) Импортировать NumPy под именем np"
   ]
  },
  {
   "cell_type": "code",
   "execution_count": 3,
   "metadata": {},
   "outputs": [],
   "source": [
    "import numpy as np"
   ]
  },
  {
   "cell_type": "markdown",
   "metadata": {},
   "source": [
    "2) Напечатать версию и конфигурацию"
   ]
  },
  {
   "cell_type": "code",
   "execution_count": 4,
   "metadata": {},
   "outputs": [
    {
     "name": "stdout",
     "output_type": "stream",
     "text": [
      "1.18.3\n",
      "blas_mkl_info:\n",
      "  NOT AVAILABLE\n",
      "blis_info:\n",
      "  NOT AVAILABLE\n",
      "openblas_info:\n",
      "    libraries = ['openblas', 'openblas']\n",
      "    library_dirs = ['/usr/local/lib']\n",
      "    language = c\n",
      "    define_macros = [('HAVE_CBLAS', None)]\n",
      "blas_opt_info:\n",
      "    libraries = ['openblas', 'openblas']\n",
      "    library_dirs = ['/usr/local/lib']\n",
      "    language = c\n",
      "    define_macros = [('HAVE_CBLAS', None)]\n",
      "lapack_mkl_info:\n",
      "  NOT AVAILABLE\n",
      "openblas_lapack_info:\n",
      "    libraries = ['openblas', 'openblas']\n",
      "    library_dirs = ['/usr/local/lib']\n",
      "    language = c\n",
      "    define_macros = [('HAVE_CBLAS', None)]\n",
      "lapack_opt_info:\n",
      "    libraries = ['openblas', 'openblas']\n",
      "    library_dirs = ['/usr/local/lib']\n",
      "    language = c\n",
      "    define_macros = [('HAVE_CBLAS', None)]\n"
     ]
    }
   ],
   "source": [
    "print(np.__version__)\n",
    "np.show_config()"
   ]
  },
  {
   "cell_type": "markdown",
   "metadata": {},
   "source": [
    "3) Создать вектор (одномерный массив) размера 10, заполненный нулями"
   ]
  },
  {
   "cell_type": "code",
   "execution_count": 5,
   "metadata": {},
   "outputs": [
    {
     "name": "stdout",
     "output_type": "stream",
     "text": [
      "[0 0 0 0 0 0 0 0 0 0]\n"
     ]
    }
   ],
   "source": [
    "vec = np.zeros(10, dtype=int)\n",
    "print(vec)"
   ]
  },
  {
   "cell_type": "markdown",
   "metadata": {},
   "source": [
    "4) Создать вектор размера 10, заполненный единицами"
   ]
  },
  {
   "cell_type": "code",
   "execution_count": 6,
   "metadata": {},
   "outputs": [
    {
     "name": "stdout",
     "output_type": "stream",
     "text": [
      "[1 1 1 1 1 1 1 1 1 1]\n"
     ]
    }
   ],
   "source": [
    "vec = np.ones(10, dtype=int)\n",
    "print(vec)"
   ]
  },
  {
   "cell_type": "markdown",
   "metadata": {},
   "source": [
    "5) Создать вектор размера 10, заполненный числом 2.5"
   ]
  },
  {
   "cell_type": "code",
   "execution_count": 7,
   "metadata": {},
   "outputs": [
    {
     "name": "stdout",
     "output_type": "stream",
     "text": [
      "[2.5 2.5 2.5 2.5 2.5 2.5 2.5 2.5 2.5 2.5]\n"
     ]
    }
   ],
   "source": [
    "vec = np.full(10, 2.5)\n",
    "print(vec)"
   ]
  },
  {
   "cell_type": "markdown",
   "metadata": {},
   "source": [
    "6) Создать вектор размера 10, заполненный нулями, но пятый элемент равен 1"
   ]
  },
  {
   "cell_type": "code",
   "execution_count": 8,
   "metadata": {},
   "outputs": [
    {
     "name": "stdout",
     "output_type": "stream",
     "text": [
      "[0 0 0 0 1 0 0 0 0 0]\n"
     ]
    }
   ],
   "source": [
    "vec = np.zeros(10, dtype=int)\n",
    "vec[4] = 1\n",
    "print(vec)"
   ]
  },
  {
   "cell_type": "markdown",
   "metadata": {},
   "source": [
    "7) Создать вектор со значениями от 10 до 49"
   ]
  },
  {
   "cell_type": "code",
   "execution_count": 9,
   "metadata": {},
   "outputs": [
    {
     "name": "stdout",
     "output_type": "stream",
     "text": [
      "[10 11 12 13 14 15 16 17 18 19 20 21 22 23 24 25 26 27 28 29 30 31 32 33\n",
      " 34 35 36 37 38 39 40 41 42 43 44 45 46 47 48 49]\n"
     ]
    }
   ],
   "source": [
    "vec = np.arange(10,50)\n",
    "print(vec)"
   ]
  },
  {
   "cell_type": "markdown",
   "metadata": {},
   "source": [
    "8) Развернуть вектор (первый становится последним)"
   ]
  },
  {
   "cell_type": "code",
   "execution_count": 10,
   "metadata": {},
   "outputs": [
    {
     "name": "stdout",
     "output_type": "stream",
     "text": [
      "[10  9  8  7  6  5  4  3  2  1  0]\n"
     ]
    }
   ],
   "source": [
    "vec = np.arange(11)\n",
    "vec = vec[::-1]\n",
    "print(vec)"
   ]
  },
  {
   "cell_type": "markdown",
   "metadata": {},
   "source": [
    "9) Создать матрицу (двумерный массив) 3x3 со значениями от 0 до 8"
   ]
  },
  {
   "cell_type": "code",
   "execution_count": 11,
   "metadata": {},
   "outputs": [
    {
     "name": "stdout",
     "output_type": "stream",
     "text": [
      "[[0 1 2]\n",
      " [3 4 5]\n",
      " [6 7 8]]\n"
     ]
    }
   ],
   "source": [
    "matr = np.arange(9).reshape(3,3)\n",
    "print(matr)"
   ]
  },
  {
   "cell_type": "markdown",
   "metadata": {},
   "source": [
    "10) Найти индексы ненулевых элементов в [1,2,0,0,4,0]"
   ]
  },
  {
   "cell_type": "code",
   "execution_count": 12,
   "metadata": {},
   "outputs": [
    {
     "name": "stdout",
     "output_type": "stream",
     "text": [
      "(array([0, 1, 4]),)\n"
     ]
    }
   ],
   "source": [
    "vec = [1,2,0,0,4,0]\n",
    "nz = np.nonzero(vec)\n",
    "print(nz)"
   ]
  },
  {
   "cell_type": "markdown",
   "metadata": {},
   "source": [
    "11) Создать 3x3 единичную матрицу"
   ]
  },
  {
   "cell_type": "code",
   "execution_count": 13,
   "metadata": {},
   "outputs": [
    {
     "name": "stdout",
     "output_type": "stream",
     "text": [
      "[[1 0 0]\n",
      " [0 1 0]\n",
      " [0 0 1]]\n"
     ]
    }
   ],
   "source": [
    "e = np.eye(3, dtype=int)\n",
    "print(e)"
   ]
  },
  {
   "cell_type": "markdown",
   "metadata": {},
   "source": [
    "12) Создать массив 3x3x3 со случайными значениями"
   ]
  },
  {
   "cell_type": "code",
   "execution_count": 14,
   "metadata": {},
   "outputs": [
    {
     "name": "stdout",
     "output_type": "stream",
     "text": [
      "[[[0.62291762 0.88565533 0.13584359]\n",
      "  [0.09114074 0.36485188 0.62492714]\n",
      "  [0.18157686 0.80476566 0.16489944]]\n",
      "\n",
      " [[0.07176109 0.05719744 0.8187876 ]\n",
      "  [0.49894812 0.20249786 0.49236763]\n",
      "  [0.63673861 0.73893059 0.50010186]]\n",
      "\n",
      " [[0.15484744 0.62862263 0.55780909]\n",
      "  [0.5704026  0.84836307 0.60232804]\n",
      "  [0.42337532 0.34225373 0.24010255]]]\n"
     ]
    }
   ],
   "source": [
    "matr = np.random.random((3,3,3))\n",
    "print(matr)"
   ]
  },
  {
   "cell_type": "markdown",
   "metadata": {},
   "source": [
    "13) Создать массив 10x10 со случайными значениями, найти минимум и максимум"
   ]
  },
  {
   "cell_type": "code",
   "execution_count": 15,
   "metadata": {},
   "outputs": [
    {
     "name": "stdout",
     "output_type": "stream",
     "text": [
      "0.0016678753020176185\n",
      "0.9814902784458359\n"
     ]
    }
   ],
   "source": [
    "matr = np.random.random((10,10))\n",
    "print(matr.min())\n",
    "print(matr.max())"
   ]
  },
  {
   "cell_type": "markdown",
   "metadata": {},
   "source": [
    "14) Создать случайный вектор размера 30 и найти среднее значение всех элементов"
   ]
  },
  {
   "cell_type": "code",
   "execution_count": 16,
   "metadata": {},
   "outputs": [
    {
     "name": "stdout",
     "output_type": "stream",
     "text": [
      "0.5154345680657647\n"
     ]
    }
   ],
   "source": [
    "vec = np.random.random(30)\n",
    "print(vec.mean())"
   ]
  },
  {
   "cell_type": "markdown",
   "metadata": {},
   "source": [
    "15) Создать матрицу с 0 внутри, и 1 на границах"
   ]
  },
  {
   "cell_type": "code",
   "execution_count": 17,
   "metadata": {},
   "outputs": [
    {
     "name": "stdout",
     "output_type": "stream",
     "text": [
      "[[1 1 1 1 1]\n",
      " [1 0 0 0 1]\n",
      " [1 0 0 0 1]\n",
      " [1 0 0 0 1]\n",
      " [1 1 1 1 1]]\n"
     ]
    }
   ],
   "source": [
    "vec = np.ones((5,5), dtype=int)\n",
    "vec[1:-1,1:-1] = 0\n",
    "print(vec)"
   ]
  },
  {
   "cell_type": "markdown",
   "metadata": {},
   "source": [
    "16) Создать 5x5 матрицу с 1,2,3,4 под диагональю"
   ]
  },
  {
   "cell_type": "code",
   "execution_count": 18,
   "metadata": {},
   "outputs": [
    {
     "name": "stdout",
     "output_type": "stream",
     "text": [
      "[[0 0 0 0 0]\n",
      " [0 1 0 0 0]\n",
      " [0 0 2 0 0]\n",
      " [0 0 0 3 0]\n",
      " [0 0 0 0 4]]\n"
     ]
    }
   ],
   "source": [
    "matr = np.diag(np.arange(0, 5))\n",
    "print(matr)"
   ]
  },
  {
   "cell_type": "markdown",
   "metadata": {},
   "source": [
    "17) Создать 8x8 матрицу и заполнить её в шахматном порядке"
   ]
  },
  {
   "cell_type": "code",
   "execution_count": 19,
   "metadata": {},
   "outputs": [
    {
     "name": "stdout",
     "output_type": "stream",
     "text": [
      "[[0 1 0 1 0 1 0 1]\n",
      " [1 0 1 0 1 0 1 0]\n",
      " [0 1 0 1 0 1 0 1]\n",
      " [1 0 1 0 1 0 1 0]\n",
      " [0 1 0 1 0 1 0 1]\n",
      " [1 0 1 0 1 0 1 0]\n",
      " [0 1 0 1 0 1 0 1]\n",
      " [1 0 1 0 1 0 1 0]]\n"
     ]
    }
   ],
   "source": [
    "vec = np.zeros((8,8), dtype=int)\n",
    "vec[1::2,::2] = 1\n",
    "vec[::2,1::2] = 1\n",
    "print(vec)"
   ]
  },
  {
   "cell_type": "markdown",
   "metadata": {},
   "source": [
    "18) Дан массив размерности (6,7,8). Каков индекс (x,y,z) сотого элемента?"
   ]
  },
  {
   "cell_type": "code",
   "execution_count": 20,
   "metadata": {},
   "outputs": [
    {
     "name": "stdout",
     "output_type": "stream",
     "text": [
      "(1, 5, 4)\n"
     ]
    }
   ],
   "source": [
    "print(np.unravel_index(100, (6,7,8)))"
   ]
  },
  {
   "cell_type": "markdown",
   "metadata": {},
   "source": [
    "19) Создать 8x8 матрицу и заполнить её в шахматном порядке, используя функцию tile"
   ]
  },
  {
   "cell_type": "code",
   "execution_count": 21,
   "metadata": {},
   "outputs": [
    {
     "name": "stdout",
     "output_type": "stream",
     "text": [
      "[[0 1 0 1 0 1 0 1]\n",
      " [1 0 1 0 1 0 1 0]\n",
      " [0 1 0 1 0 1 0 1]\n",
      " [1 0 1 0 1 0 1 0]\n",
      " [0 1 0 1 0 1 0 1]\n",
      " [1 0 1 0 1 0 1 0]\n",
      " [0 1 0 1 0 1 0 1]\n",
      " [1 0 1 0 1 0 1 0]]\n"
     ]
    }
   ],
   "source": [
    "matr = np.tile(np.array([[0,1],[1,0]]), (4,4))\n",
    "print(matr)"
   ]
  },
  {
   "cell_type": "markdown",
   "metadata": {},
   "source": [
    "20) Перемножить матрицы 5x3 и 3x2"
   ]
  },
  {
   "cell_type": "code",
   "execution_count": 22,
   "metadata": {},
   "outputs": [
    {
     "name": "stdout",
     "output_type": "stream",
     "text": [
      "[[3 3]\n",
      " [3 3]\n",
      " [3 3]\n",
      " [3 3]\n",
      " [3 3]]\n"
     ]
    }
   ],
   "source": [
    "matr = np.dot(np.ones((5,3), dtype=int), np.ones((3,2), dtype=int))\n",
    "print(matr)"
   ]
  },
  {
   "cell_type": "markdown",
   "metadata": {},
   "source": [
    "21) Дан массив, поменять знак у элементов, значения которых между 3 и 8"
   ]
  },
  {
   "cell_type": "code",
   "execution_count": 23,
   "metadata": {},
   "outputs": [
    {
     "name": "stdout",
     "output_type": "stream",
     "text": [
      "[ 0  1  2  3 -4 -5 -6 -7  8  9 10]\n"
     ]
    }
   ],
   "source": [
    "vec = np.arange(11)\n",
    "vec[(3 < vec) & (vec < 8)] *= -1\n",
    "print(vec)"
   ]
  },
  {
   "cell_type": "markdown",
   "metadata": {},
   "source": [
    "22) Создать 5x5 матрицу со значениями в строках от 0 до 4"
   ]
  },
  {
   "cell_type": "code",
   "execution_count": 24,
   "metadata": {},
   "outputs": [
    {
     "name": "stdout",
     "output_type": "stream",
     "text": [
      "[[0 1 2 3 4]\n",
      " [0 1 2 3 4]\n",
      " [0 1 2 3 4]\n",
      " [0 1 2 3 4]\n",
      " [0 1 2 3 4]]\n"
     ]
    }
   ],
   "source": [
    "matr = np.zeros((5,5), dtype=int)\n",
    "matr += np.arange(5)\n",
    "print(matr)"
   ]
  },
  {
   "cell_type": "markdown",
   "metadata": {},
   "source": [
    "23) Есть генератор, сделать с его помощью массив"
   ]
  },
  {
   "cell_type": "code",
   "execution_count": 25,
   "metadata": {},
   "outputs": [
    {
     "name": "stdout",
     "output_type": "stream",
     "text": [
      "[ 0  1  2  3  4  5  6  7  8  9 10 11 12 13 14 15 16 17 18 19]\n"
     ]
    }
   ],
   "source": [
    "def generator():\n",
    "    for el in range(20):\n",
    "        yield el\n",
    "\n",
    "vec = np.fromiter(generator(), dtype=int)\n",
    "print(vec)"
   ]
  },
  {
   "cell_type": "markdown",
   "metadata": {},
   "source": [
    "24) Создать вектор размера 10 со значениями от 0 до 1, не включая ни то, ни другое"
   ]
  },
  {
   "cell_type": "code",
   "execution_count": 26,
   "metadata": {},
   "outputs": [
    {
     "name": "stdout",
     "output_type": "stream",
     "text": [
      "[0.197846   0.20208845 0.46654037 0.48289103 0.50179173 0.65206402\n",
      " 0.6521073  0.65359579 0.66738243 0.78945613]\n"
     ]
    }
   ],
   "source": [
    "vec = np.random.random(12)\n",
    "vec.sort()\n",
    "print(vec[1:-1])"
   ]
  },
  {
   "cell_type": "markdown",
   "metadata": {},
   "source": [
    "25) Отсортировать вектор"
   ]
  },
  {
   "cell_type": "code",
   "execution_count": 27,
   "metadata": {},
   "outputs": [
    {
     "name": "stdout",
     "output_type": "stream",
     "text": [
      "[0.09090909 0.18181818 0.27272727 0.36363636 0.45454545 0.54545455\n",
      " 0.63636364 0.72727273 0.81818182 0.90909091]\n"
     ]
    }
   ],
   "source": [
    "vec = np.linspace(0, 1, 12)[1:-1]\n",
    "print(vec)"
   ]
  },
  {
   "cell_type": "markdown",
   "metadata": {},
   "source": [
    "26) Проверить, одинаковы ли 2 numpy массива"
   ]
  },
  {
   "cell_type": "code",
   "execution_count": 28,
   "metadata": {},
   "outputs": [
    {
     "name": "stdout",
     "output_type": "stream",
     "text": [
      "[36  6  1 37 20 27 31 46 30 18 12 25 28 28 18 34 30  0 44  7]\n",
      "[14  0 20 35  0 32 33 16  0 13 36 49 21  1  7 46 40 30 20 28]\n",
      "False\n"
     ]
    }
   ],
   "source": [
    "a = np.random.randint(0, 50, 20)\n",
    "b = np.random.randint(0, 50, 20)\n",
    "print(a)\n",
    "print(b)\n",
    "print(np.allclose(a,b))"
   ]
  },
  {
   "cell_type": "markdown",
   "metadata": {},
   "source": [
    "27) Сделать массив неизменяемым"
   ]
  },
  {
   "cell_type": "code",
   "execution_count": 29,
   "metadata": {},
   "outputs": [],
   "source": [
    "vec.flags.writeable = False"
   ]
  },
  {
   "cell_type": "markdown",
   "metadata": {},
   "source": [
    "28) Дан массив 10x2 (точки в декартовой системе координат), преобразовать в полярную"
   ]
  },
  {
   "cell_type": "code",
   "execution_count": 30,
   "metadata": {},
   "outputs": [
    {
     "name": "stdout",
     "output_type": "stream",
     "text": [
      "[1.18117889 0.73762129 0.61680346 0.97690744 1.02165837 1.11343146\n",
      " 0.95941907 1.09715053 0.44726638 1.09557553] [0.89315293 1.48206807 1.55171545 1.03345761 0.23751315 0.45933033\n",
      " 0.34430154 0.6049445  1.36690146 0.60250809]\n"
     ]
    }
   ],
   "source": [
    "matr = np.random.random((10, 2))\n",
    "x = matr[:,0]\n",
    "y = matr[:,1]\n",
    "r = np.hypot(x, y)\n",
    "t = np.arctan2(y, x)\n",
    "print(r, t)"
   ]
  },
  {
   "cell_type": "markdown",
   "metadata": {},
   "source": [
    "29) Заменить максимальный элемент на ноль"
   ]
  },
  {
   "cell_type": "code",
   "execution_count": 31,
   "metadata": {},
   "outputs": [
    {
     "name": "stdout",
     "output_type": "stream",
     "text": [
      "[12 36 35 34 18  1 48 45  4 45] 48\n",
      "[12 36 35 34 18  1  0 45  4 45]\n"
     ]
    }
   ],
   "source": [
    "vec = np.random.randint(0, 50, 10)\n",
    "print(vec, vec.max())\n",
    "vec[vec.argmax()] = 0\n",
    "print(vec)"
   ]
  },
  {
   "cell_type": "markdown",
   "metadata": {},
   "source": [
    "30) Создать структурированный массив с координатами x, y на сетке в квадрате [0,1]x[0,1]"
   ]
  },
  {
   "cell_type": "code",
   "execution_count": 32,
   "metadata": {},
   "outputs": [
    {
     "name": "stdout",
     "output_type": "stream",
     "text": [
      "[[(0.  , 0.  ) (0.25, 0.25) (0.5 , 0.5 ) (0.75, 0.75) (1.  , 1.  )]\n",
      " [(0.  , 0.  ) (0.25, 0.25) (0.5 , 0.5 ) (0.75, 0.75) (1.  , 1.  )]\n",
      " [(0.  , 0.  ) (0.25, 0.25) (0.5 , 0.5 ) (0.75, 0.75) (1.  , 1.  )]\n",
      " [(0.  , 0.  ) (0.25, 0.25) (0.5 , 0.5 ) (0.75, 0.75) (1.  , 1.  )]\n",
      " [(0.  , 0.  ) (0.25, 0.25) (0.5 , 0.5 ) (0.75, 0.75) (1.  , 1.  )]]\n"
     ]
    }
   ],
   "source": [
    "vec = np.zeros((5, 5), [('x', float), ('y', float)])\n",
    "vec['x'] = np.meshgrid(np.linspace(0, 1, 5))\n",
    "vec['y'] = np.meshgrid(np.linspace(0, 1, 5))\n",
    "print(vec)"
   ]
  },
  {
   "cell_type": "markdown",
   "metadata": {},
   "source": [
    "31) Найти минимальное и максимальное значение, принимаемое каждым числовым типом numpy"
   ]
  },
  {
   "cell_type": "code",
   "execution_count": 33,
   "metadata": {},
   "outputs": [
    {
     "name": "stdout",
     "output_type": "stream",
     "text": [
      "Integers:\n",
      "<class 'numpy.int8'> -128 127\n",
      "<class 'numpy.int32'> -2147483648 2147483647\n",
      "<class 'numpy.int64'> -9223372036854775808 9223372036854775807\n",
      "Floats:\n",
      "<class 'numpy.float32'> 1.1920929e-07 -3.4028235e+38 3.4028235e+38\n",
      "<class 'numpy.float64'> 2.220446049250313e-16 -1.7976931348623157e+308 1.7976931348623157e+308\n"
     ]
    }
   ],
   "source": [
    "print('Integers:')\n",
    "for tp in [np.int8, np.int32, np.int64]:\n",
    "    print(tp, np.iinfo(tp).min, np.iinfo(tp).max)\n",
    "print('Floats:')\n",
    "for tp in [np.float32, np.float64]:\n",
    "    print(tp, np.finfo(tp).eps, np.finfo(tp).min, np.finfo(tp).max)"
   ]
  },
  {
   "cell_type": "markdown",
   "metadata": {},
   "source": [
    "32) Напечатать все значения в массиве"
   ]
  },
  {
   "cell_type": "code",
   "execution_count": 34,
   "metadata": {},
   "outputs": [
    {
     "name": "stdout",
     "output_type": "stream",
     "text": [
      "[15 19 12  6 11  7  0  3 15  0]\n"
     ]
    }
   ],
   "source": [
    "vec = np.random.randint(0, 20, 10)\n",
    "print(vec)"
   ]
  },
  {
   "cell_type": "markdown",
   "metadata": {},
   "source": [
    "33) Найти ближайшее к заданному значению число в заданном массиве"
   ]
  },
  {
   "cell_type": "code",
   "execution_count": 35,
   "metadata": {},
   "outputs": [
    {
     "name": "stdout",
     "output_type": "stream",
     "text": [
      "0.15309701185506897\n",
      "0\n"
     ]
    }
   ],
   "source": [
    "vec = np.arange(50)\n",
    "nbr = np.random.uniform(0, 50)\n",
    "print(nbr)\n",
    "print(vec[(np.abs(vec - nbr)).argmin()])"
   ]
  },
  {
   "cell_type": "markdown",
   "metadata": {},
   "source": [
    "34) Создать структурированный массив, представляющий координату (x,y) и цвет (r,g,b)"
   ]
  },
  {
   "cell_type": "code",
   "execution_count": 36,
   "metadata": {},
   "outputs": [
    {
     "name": "stdout",
     "output_type": "stream",
     "text": [
      "[[((0, 0), (0, 0, 0)) ((0, 0), (0, 0, 0)) ((0, 0), (0, 0, 0))]\n",
      " [((0, 0), (0, 0, 0)) ((0, 0), (0, 0, 0)) ((0, 0), (0, 0, 0))]\n",
      " [((0, 0), (0, 0, 0)) ((0, 0), (0, 0, 0)) ((0, 0), (0, 0, 0))]]\n"
     ]
    }
   ],
   "source": [
    "vec = np.zeros((3, 3), [('position', [('x', int), ('y', int)]),\n",
    "                        ('color',    [('r', int), ('g', int), ('b', int)])])\n",
    "print(vec)"
   ]
  },
  {
   "cell_type": "markdown",
   "metadata": {},
   "source": [
    "35) Дан массив (10, 2) координат, найти расстояние от каждой точки до каждой"
   ]
  },
  {
   "cell_type": "code",
   "execution_count": 37,
   "metadata": {},
   "outputs": [
    {
     "name": "stdout",
     "output_type": "stream",
     "text": [
      "[[0.42103398 0.96271374]\n",
      " [0.23885149 0.3704902 ]\n",
      " [0.18796371 0.08543852]\n",
      " [0.20675631 0.02483949]\n",
      " [0.63159364 0.98003347]\n",
      " [0.76516043 0.6522104 ]\n",
      " [0.86579624 0.27335353]\n",
      " [0.90561504 0.34842592]\n",
      " [0.24812058 0.22775372]\n",
      " [0.18532095 0.43321346]]\n",
      "[[0.         0.61961212 0.90770786 0.96204108 0.21127078 0.46350333\n",
      "  0.82038465 0.78241187 0.75502667 0.5795957 ]\n",
      " [0.61961212 0.         0.28955833 0.3471376  0.72511337 0.59696513\n",
      "  0.63442513 0.66712852 0.14303712 0.08246046]\n",
      " [0.90770786 0.28955833 0.         0.06344607 0.99855277 0.80894154\n",
      "  0.70339817 0.76432049 0.15450717 0.34778498]\n",
      " [0.96204108 0.3471376  0.06344607 0.         1.04541011 0.83988655\n",
      "  0.7043386  0.77013747 0.20708739 0.40893615]\n",
      " [0.21127078 0.72511337 0.99855277 1.04541011 0.         0.35398878\n",
      "  0.74447794 0.68848807 0.84437931 0.70581261]\n",
      " [0.46350333 0.59696513 0.80894154 0.83988655 0.35398878 0.\n",
      "  0.39199502 0.3346827  0.66894968 0.6198173 ]\n",
      " [0.82038465 0.63442513 0.70339817 0.7043386  0.74447794 0.39199502\n",
      "  0.         0.08497883 0.61935657 0.69900059]\n",
      " [0.78241187 0.66712852 0.76432049 0.77013747 0.68848807 0.3346827\n",
      "  0.08497883 0.         0.66847644 0.7252672 ]\n",
      " [0.75502667 0.14303712 0.15450717 0.20708739 0.84437931 0.66894968\n",
      "  0.61935657 0.66847644 0.         0.21484297]\n",
      " [0.5795957  0.08246046 0.34778498 0.40893615 0.70581261 0.6198173\n",
      "  0.69900059 0.7252672  0.21484297 0.        ]]\n"
     ]
    }
   ],
   "source": [
    "import scipy.spatial as sp\n",
    "matr = np.random.random((10, 2))\n",
    "dist = sp.distance.cdist(matr, matr)\n",
    "print(matr)\n",
    "print(dist)"
   ]
  },
  {
   "cell_type": "markdown",
   "metadata": {},
   "source": [
    "36) Преобразовать массив из float в int"
   ]
  },
  {
   "cell_type": "code",
   "execution_count": 38,
   "metadata": {},
   "outputs": [
    {
     "name": "stdout",
     "output_type": "stream",
     "text": [
      "[5.10698097 5.7753419  9.86239378 5.12026228 1.37902454 8.72208013\n",
      " 9.2228197  6.25936901 6.79928278 1.58815326]\n",
      "[5 5 9 5 1 8 9 6 6 1]\n"
     ]
    }
   ],
   "source": [
    "vec = np.random.random(10) * 10\n",
    "print(vec)\n",
    "vec = vec.astype(np.int, copy=False)\n",
    "print(vec)"
   ]
  },
  {
   "cell_type": "markdown",
   "metadata": {},
   "source": [
    "37) Отнять среднее из каждой строки в матрице"
   ]
  },
  {
   "cell_type": "code",
   "execution_count": 39,
   "metadata": {},
   "outputs": [
    {
     "name": "stdout",
     "output_type": "stream",
     "text": [
      "[[0.26023853 0.92586424 0.91219575 0.61706651 0.09561146]\n",
      " [0.14124254 0.68473    0.13131879 0.41156207 0.83171018]\n",
      " [0.16054078 0.66657634 0.95352565 0.42125543 0.58203731]\n",
      " [0.14120247 0.97460066 0.60862899 0.82438828 0.71092703]\n",
      " [0.67497826 0.98724617 0.10385965 0.51784023 0.66670003]]\n",
      "[[-0.30195677  0.36366894  0.35000045  0.05487121 -0.46658384]\n",
      " [-0.29887018  0.24461728 -0.30879393 -0.02855065  0.39159747]\n",
      " [-0.39624632  0.10978924  0.39673854 -0.13553167  0.02525021]\n",
      " [-0.51074701  0.32265118 -0.04332049  0.17243879  0.05897754]\n",
      " [ 0.08485339  0.3971213  -0.48626522 -0.07228464  0.07657516]]\n"
     ]
    }
   ],
   "source": [
    "matr = np.random.rand(5, 5)\n",
    "print(matr)\n",
    "res = matr - matr.mean(axis=1, keepdims=True)\n",
    "print(res)"
   ]
  },
  {
   "cell_type": "markdown",
   "metadata": {},
   "source": [
    "38) Отсортировать матрицу по n-ому столбцу"
   ]
  },
  {
   "cell_type": "code",
   "execution_count": 40,
   "metadata": {},
   "outputs": [
    {
     "name": "stdout",
     "output_type": "stream",
     "text": [
      "[[1 7 9 5 4]\n",
      " [1 1 1 0 4]\n",
      " [2 0 7 4 5]\n",
      " [3 3 8 8 7]\n",
      " [7 3 9 8 0]]\n"
     ]
    }
   ],
   "source": [
    "matr = np.random.randint(0, 10, (5, 5))\n",
    "n = 0\n",
    "print(matr[matr[:, n].argsort()])"
   ]
  },
  {
   "cell_type": "markdown",
   "metadata": {},
   "source": [
    "39) Определить, есть ли в 2D массиве нулевые столбцы"
   ]
  },
  {
   "cell_type": "code",
   "execution_count": 41,
   "metadata": {},
   "outputs": [
    {
     "name": "stdout",
     "output_type": "stream",
     "text": [
      "True\n"
     ]
    }
   ],
   "source": [
    "matr = np.random.randint(0, 1, (10, 10))\n",
    "print((~matr.any(axis=0)).any())"
   ]
  },
  {
   "cell_type": "markdown",
   "metadata": {},
   "source": [
    "40) Дан массив, добавить 1 к каждому элементу с индексом, заданным в другом массиве (осторожно с повторами)"
   ]
  },
  {
   "cell_type": "code",
   "execution_count": 42,
   "metadata": {},
   "outputs": [
    {
     "name": "stdout",
     "output_type": "stream",
     "text": [
      "[3 1 1 2 2 2 3 2 2 2]\n"
     ]
    }
   ],
   "source": [
    "vec = np.ones(10, dtype=int)\n",
    "ind = np.random.randint(0, len(vec), 10)\n",
    "vec += np.bincount(ind, minlength=len(vec))\n",
    "print(vec)"
   ]
  },
  {
   "cell_type": "markdown",
   "metadata": {},
   "source": [
    "41) Найти диагональные элементы произведения матриц"
   ]
  },
  {
   "cell_type": "code",
   "execution_count": 43,
   "metadata": {},
   "outputs": [
    {
     "name": "stdout",
     "output_type": "stream",
     "text": [
      "[118 159  48  80 169]\n"
     ]
    }
   ],
   "source": [
    "a = np.random.randint(0, 10, (5, 5))\n",
    "b = np.random.randint(0, 10, (5, 5))\n",
    "print(np.diag(np.dot(a, b)))"
   ]
  },
  {
   "cell_type": "markdown",
   "metadata": {},
   "source": [
    "42) Дан вектор [1, 2, 3, 4, 5], построить новый вектор с тремя нулями между каждым значением"
   ]
  },
  {
   "cell_type": "code",
   "execution_count": 44,
   "metadata": {},
   "outputs": [
    {
     "name": "stdout",
     "output_type": "stream",
     "text": [
      "[1 0 0 0 2 0 0 0 3 0 0 0 4 0 0 0 5]\n"
     ]
    }
   ],
   "source": [
    "vec = np.arange(1, 6)\n",
    "res = np.zeros(len(vec) + (len(vec) - 1) * 3, dtype=int)\n",
    "res[::4] = vec\n",
    "print(res)"
   ]
  },
  {
   "cell_type": "markdown",
   "metadata": {},
   "source": [
    "43) Поменять 2 строки в матрице"
   ]
  },
  {
   "cell_type": "code",
   "execution_count": 45,
   "metadata": {},
   "outputs": [
    {
     "name": "stdout",
     "output_type": "stream",
     "text": [
      "[[1 1 1 6 8]\n",
      " [3 0 8 8 6]\n",
      " [0 4 0 7 6]\n",
      " [7 6 3 2 3]\n",
      " [1 6 5 0 1]]\n",
      "[[3 0 8 8 6]\n",
      " [1 1 1 6 8]\n",
      " [0 4 0 7 6]\n",
      " [7 6 3 2 3]\n",
      " [1 6 5 0 1]]\n"
     ]
    }
   ],
   "source": [
    "matr = np.random.randint(0, 10, (5, 5))\n",
    "print(matr)\n",
    "matr[[0,1]] = matr[[1,0]]\n",
    "print(matr)"
   ]
  }
 ],
 "metadata": {
  "kernelspec": {
   "display_name": "Python 3",
   "language": "python",
   "name": "python3"
  },
  "language_info": {
   "codemirror_mode": {
    "name": "ipython",
    "version": 3
   },
   "file_extension": ".py",
   "mimetype": "text/x-python",
   "name": "python",
   "nbconvert_exporter": "python",
   "pygments_lexer": "ipython3",
   "version": "3.6.9"
  }
 },
 "nbformat": 4,
 "nbformat_minor": 2
}
