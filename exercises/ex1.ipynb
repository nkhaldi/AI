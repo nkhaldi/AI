{
 "cells": [
  {
   "cell_type": "markdown",
   "metadata": {},
   "source": [
    "# Задачи для самостоятельной работы"
   ]
  },
  {
   "cell_type": "markdown",
   "metadata": {},
   "source": [
    "### Задача 1\n",
    "Есть список a = [1, 1, 2, 3, 5, 8, 13, 21, 34, 55, 89].\n",
    "\n",
    "Выведите все элементы, которые меньше 5."
   ]
  },
  {
   "cell_type": "code",
   "execution_count": 1,
   "metadata": {},
   "outputs": [
    {
     "name": "stdout",
     "output_type": "stream",
     "text": [
      "1 1 2 3 \n"
     ]
    }
   ],
   "source": [
    "a = [1, 1, 2, 3, 5, 8, 13, 21, 34, 55, 89]\n",
    "for el in a:\n",
    "    if (el < 5):\n",
    "        print(el, end=\" \")\n",
    "print()"
   ]
  },
  {
   "cell_type": "markdown",
   "metadata": {},
   "source": [
    "### Задача 2\n",
    "Даны списки:\n",
    "\n",
    "a = [1, 1, 2, 3, 5, 8, 13, 21, 34, 55, 89];\n",
    "\n",
    "b = [1, 2, 3, 4, 5, 6, 7, 8, 9, 10, 11, 12, 13].\n",
    "\n",
    "Нужно вернуть список, который состоит из элементов, общих для этих двух списков."
   ]
  },
  {
   "cell_type": "code",
   "execution_count": 3,
   "metadata": {},
   "outputs": [
    {
     "name": "stdout",
     "output_type": "stream",
     "text": [
      "{1, 2, 3, 5, 8, 13}\n"
     ]
    }
   ],
   "source": [
    "a = set([1, 1, 2, 3, 5, 8, 13, 21, 34, 55, 89])\n",
    "b = set([1, 2, 3, 4, 5, 6, 7, 8, 9, 10, 11, 12, 13])\n",
    "c = set()\n",
    "\n",
    "for el_a in a:\n",
    "    for el_b in b:\n",
    "        if (el_a == el_b):\n",
    "            c.add(el_a)\n",
    "\n",
    "print(c)"
   ]
  },
  {
   "cell_type": "markdown",
   "metadata": {},
   "source": [
    "### Задача 3\n",
    "\n",
    "Отсортируйте словарь по значению в порядке возрастания и убывания."
   ]
  },
  {
   "cell_type": "code",
   "execution_count": 4,
   "metadata": {},
   "outputs": [
    {
     "name": "stdout",
     "output_type": "stream",
     "text": [
      "[('d', 100), ('a', 200), ('b', 300), ('c', 400)]\n",
      "[('c', 400), ('b', 300), ('a', 200), ('d', 100)]\n"
     ]
    }
   ],
   "source": [
    "dic={\"a\": 200, 'b': 300, 'c': 400, 'd': 100}\n",
    "dic_sort1 = list(dic.items())\n",
    "dic_sort1.sort(key=lambda i: i[1])\n",
    "dic_sort2 = dic_sort1[::-1]\n",
    "\n",
    "print(dic_sort1)\n",
    "print(dic_sort2)"
   ]
  },
  {
   "cell_type": "markdown",
   "metadata": {},
   "source": [
    "### Задача 4\n",
    "\n",
    "Напишите программу для слияния нескольких словарей в один."
   ]
  },
  {
   "cell_type": "code",
   "execution_count": 5,
   "metadata": {},
   "outputs": [
    {
     "name": "stdout",
     "output_type": "stream",
     "text": [
      "{'a': 1, 'b': 2, 'c': 3, 'd': 4, 'e': 5, 'f': 6}\n"
     ]
    }
   ],
   "source": [
    "a = {'a': 1, 'b': 2, 'c': 3}\n",
    "b = {'d': 4, 'e': 5, 'f': 6}\n",
    "\n",
    "dic = dict()\n",
    "for key in a.keys():\n",
    "    dic[key] = a[key]\n",
    "for key in b.keys():\n",
    "    dic[key] = b[key]\n",
    "\n",
    "print(dic)"
   ]
  },
  {
   "cell_type": "markdown",
   "metadata": {},
   "source": [
    "### Задача 5\n",
    "\n",
    "Найдите три ключа с самыми высокими значениями в словаре my_dict = {'a':500, 'b':5874, 'c': 560,'d':400, 'e':5874, 'f': 20}."
   ]
  },
  {
   "cell_type": "code",
   "execution_count": 7,
   "metadata": {},
   "outputs": [
    {
     "name": "stdout",
     "output_type": "stream",
     "text": [
      "{'c': 560, 'b': 5874, 'e': 5874}\n"
     ]
    }
   ],
   "source": [
    "dic = {'a': 500, 'b': 5874, 'c': 560,'d': 400, 'e': 5874, 'f': 20}\n",
    "dic_sort = list(dic.items())\n",
    "dic_sort.sort(key=lambda i: i[1])\n",
    "\n",
    "n = 0\n",
    "for key in dic_sort:\n",
    "    n += 1\n",
    "\n",
    "max_dic = dict()\n",
    "for i in range(n):\n",
    "    if (i > n - 4):\n",
    "        max_dic[dic_sort[i][0]] = dic_sort[i][1]\n",
    "\n",
    "print(max_dic)"
   ]
  },
  {
   "cell_type": "markdown",
   "metadata": {},
   "source": [
    "### Задача 6\n",
    "\n",
    "Напишите код, который переводит целое число в строку, при том что его можно применить в любой системе счисления."
   ]
  },
  {
   "cell_type": "code",
   "execution_count": 16,
   "metadata": {},
   "outputs": [
    {
     "name": "stdout",
     "output_type": "stream",
     "text": [
      "AB\n",
      "12\n",
      "131\n"
     ]
    }
   ],
   "source": [
    "n = input()\n",
    "s = int(input())\n",
    "print(int(n, s))"
   ]
  },
  {
   "attachments": {
    "image.png": {
     "image/png": "[encoded data removed]"
    }
   },
   "cell_type": "markdown",
   "metadata": {},
   "source": [
    "### Задача 7\n",
    "\n",
    "Нужно вывести первые n строк треугольника Паскаля. В этом треугольнике на вершине и по бокам стоят единицы, а каждое число внутри равно сумме двух расположенных над ним чисел.\n",
    "![image.png](attachment:image.png)"
   ]
  },
  {
   "cell_type": "code",
   "execution_count": 18,
   "metadata": {},
   "outputs": [
    {
     "name": "stdout",
     "output_type": "stream",
     "text": [
      "10\n",
      "[1]\n",
      "[1, 1]\n",
      "[1, 2, 1]\n",
      "[1, 3, 3, 1]\n",
      "[1, 4, 6, 4, 1]\n",
      "[1, 5, 10, 10, 5, 1]\n",
      "[1, 6, 15, 20, 15, 6, 1]\n",
      "[1, 7, 21, 35, 35, 21, 7, 1]\n",
      "[1, 8, 28, 56, 70, 56, 28, 8, 1]\n",
      "[1, 9, 36, 84, 126, 126, 84, 36, 9, 1]\n"
     ]
    }
   ],
   "source": [
    "def current_row(n):\n",
    "    row = list()\n",
    "    for i in range(n):\n",
    "        if i == 0 or i == n-1:\n",
    "            row.append(1)\n",
    "        else:\n",
    "            c_row = current_row(n-1)\n",
    "            row.append(c_row[i-1] + c_row[i])\n",
    "    return row\n",
    "\n",
    "def triangle(m):\n",
    "    result = list()\n",
    "    for i in range(m):\n",
    "        result.append(current_row(i+1))\n",
    "    for j in result:\n",
    "        print(j)\n",
    "\n",
    "n = int(input())\n",
    "triangle(n)"
   ]
  },
  {
   "cell_type": "markdown",
   "metadata": {},
   "source": [
    "### Задача 8\n",
    "\n",
    "Выведите первый и последний элемент списка."
   ]
  },
  {
   "cell_type": "code",
   "execution_count": 12,
   "metadata": {},
   "outputs": [
    {
     "name": "stdout",
     "output_type": "stream",
     "text": [
      "1 89\n"
     ]
    }
   ],
   "source": [
    "a = [1, 1, 2, 3, 5, 8, 13, 21, 34, 55, 89]\n",
    "print(a[0], a[-1])"
   ]
  },
  {
   "cell_type": "markdown",
   "metadata": {},
   "source": [
    "### Задача 9\n",
    "Выведите первый и последний элемент списка."
   ]
  },
  {
   "cell_type": "code",
   "execution_count": 11,
   "metadata": {},
   "outputs": [
    {
     "name": "stdout",
     "output_type": "stream",
     "text": [
      "1 89\n"
     ]
    }
   ],
   "source": [
    "a = [1, 1, 2, 3, 5, 8, 13, 21, 34, 55, 89]\n",
    "print(a[0], a[len(a)-1])"
   ]
  },
  {
   "cell_type": "markdown",
   "metadata": {},
   "source": [
    "### Задача 10\n",
    "\n",
    "При заданном целом числе n посчитайте n + nn + nnn."
   ]
  },
  {
   "cell_type": "code",
   "execution_count": 17,
   "metadata": {},
   "outputs": [
    {
     "name": "stdout",
     "output_type": "stream",
     "text": [
      "3\n",
      "369\n"
     ]
    }
   ],
   "source": [
    "n = int(input())\n",
    "n1 = n\n",
    "n2 = int(str(n) + str(n))\n",
    "n3 = int(str(n) + str(n) + str(n))\n",
    "print(n1 + n2 + n3)"
   ]
  },
  {
   "cell_type": "markdown",
   "metadata": {},
   "source": [
    "### Задача 11\n",
    "\n",
    "Напишите программу, которая выводит чётные числа из заданного списка и останавливается, если встречает число 237."
   ]
  },
  {
   "cell_type": "code",
   "execution_count": 19,
   "metadata": {},
   "outputs": [
    {
     "name": "stdout",
     "output_type": "stream",
     "text": [
      "386 462 418 344 236 566 \n"
     ]
    }
   ],
   "source": [
    "a = [386, 462, 47, 418, 907, 344, 236, 375, 823, 566, 237, 978, 328, 615, 952, 345]\n",
    "for el in a:\n",
    "    if el == 237:\n",
    "        break\n",
    "    elif el % 2 == 0:\n",
    "        print(el, end=\" \")\n",
    "print()"
   ]
  },
  {
   "cell_type": "markdown",
   "metadata": {},
   "source": [
    "### Задача 12\n",
    "С помощью анонимной функции извлеките из списка числа, делимые на 15."
   ]
  },
  {
   "cell_type": "code",
   "execution_count": 20,
   "metadata": {},
   "outputs": [
    {
     "name": "stdout",
     "output_type": "stream",
     "text": [
      "[30, 60, 105, 225]\n"
     ]
    }
   ],
   "source": [
    "a = [30, 4, 55, 60, 37, 100, 105, 220, 225]\n",
    "res = list(filter(lambda x: not x % 15, a))\n",
    "print(res)"
   ]
  },
  {
   "cell_type": "markdown",
   "metadata": {},
   "source": [
    "### Задача 13\n",
    "\n",
    "Поменяйте значения переменных местами."
   ]
  },
  {
   "cell_type": "code",
   "execution_count": 21,
   "metadata": {},
   "outputs": [
    {
     "name": "stdout",
     "output_type": "stream",
     "text": [
      "a =  24 b =  42\n",
      "a =  42 b =  24\n"
     ]
    }
   ],
   "source": [
    "a = 24\n",
    "b = 42\n",
    "print('a = ', a, 'b = ', b)\n",
    "a, b = b, a\n",
    "print('a = ', a, 'b = ', b)"
   ]
  },
  {
   "cell_type": "markdown",
   "metadata": {},
   "source": [
    "### Задача 14\n",
    "\n",
    "Написать функцию is_year_leap, принимающую 1 аргумент — год, и возвращающую True, если год високосный, и False иначе."
   ]
  },
  {
   "cell_type": "code",
   "execution_count": 22,
   "metadata": {},
   "outputs": [
    {
     "name": "stdout",
     "output_type": "stream",
     "text": [
      "2004\n",
      "True\n"
     ]
    }
   ],
   "source": [
    "def is_year_leap(year):\n",
    "    if ((year % 4 == 0 and year % 100 != 0) or year % 400 == 0):\n",
    "        return True\n",
    "    else:\n",
    "        return False\n",
    "\n",
    "year = int(input())\n",
    "print(is_year_leap(year))"
   ]
  },
  {
   "cell_type": "markdown",
   "metadata": {},
   "source": [
    "### Задача 15\n",
    "\n",
    "Написать функцию is_prime, принимающую 1 аргумент — число от 0 до 1000, и возвращающую True, если оно простое, и False - иначе."
   ]
  },
  {
   "cell_type": "code",
   "execution_count": 24,
   "metadata": {},
   "outputs": [
    {
     "name": "stdout",
     "output_type": "stream",
     "text": [
      "17\n",
      "True\n"
     ]
    }
   ],
   "source": [
    "def is_prime(n):\n",
    "    if (n < 2):\n",
    "        return False\n",
    "    elif (n < 4):\n",
    "        return True \n",
    "    i = 2\n",
    "    while (i * i <= n):\n",
    "        if (n % i == 0):\n",
    "            return False\n",
    "        i += 1\n",
    "    return True \n",
    "\n",
    "n = int(input())\n",
    "print(is_prime(n))"
   ]
  },
  {
   "cell_type": "markdown",
   "metadata": {},
   "source": [
    "### Задача 16\n",
    "\n",
    "Написать функцию arithmetic, принимающую 3 аргумента: первые 2 - числа, третий - операция, которая должна быть произведена над ними. Если третий аргумент +, сложить их; если —, то вычесть; * — умножить; / — разделить (первое на второе). В остальных случаях вернуть строку \"Неизвестная операция\"."
   ]
  },
  {
   "cell_type": "code",
   "execution_count": 25,
   "metadata": {},
   "outputs": [
    {
     "name": "stdout",
     "output_type": "stream",
     "text": [
      "4\n",
      "8\n",
      "*\n",
      "4 * 8 = 32\n"
     ]
    }
   ],
   "source": [
    "def arithmetic(a, b, op):\n",
    "    if op == '+':\n",
    "        return a + b\n",
    "    elif op == '-':\n",
    "        return a - b\n",
    "    elif op == '*':\n",
    "        return a * b\n",
    "    elif op == '/':\n",
    "        if b == 0:\n",
    "            return(\"Деление на 0!\")\n",
    "        else:\n",
    "            return a / b\n",
    "    else:\n",
    "        return \"Неизвестная операция\"\n",
    "\n",
    "a = int(input())\n",
    "b = int(input())\n",
    "op = input()\n",
    "res = arithmetic(a, b, op)\n",
    "print(a, op, b, '=', res)"
   ]
  },
  {
   "cell_type": "code",
   "execution_count": null,
   "metadata": {},
   "outputs": [],
   "source": []
  }
 ],
 "metadata": {
  "kernelspec": {
   "display_name": "Python 3",
   "language": "python",
   "name": "python3"
  },
  "language_info": {
   "codemirror_mode": {
    "name": "ipython",
    "version": 3
   },
   "file_extension": ".py",
   "mimetype": "text/x-python",
   "name": "python",
   "nbconvert_exporter": "python",
   "pygments_lexer": "ipython3",
   "version": "3.6.9"
  }
 },
 "nbformat": 4,
 "nbformat_minor": 2
}
