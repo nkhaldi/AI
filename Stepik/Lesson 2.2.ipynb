{
 "cells": [
  {
   "cell_type": "code",
   "execution_count": 1,
   "id": "41cefe84-ddc5-481e-8ff6-ecc1f4e0989a",
   "metadata": {
    "tags": []
   },
   "outputs": [],
   "source": [
    "import pandas as pd\n",
    "from math import exp, log2\n",
    "from scipy.stats import entropy"
   ]
  },
  {
   "cell_type": "code",
   "execution_count": 2,
   "id": "ca84da16-fb57-4072-9af7-323716d68152",
   "metadata": {},
   "outputs": [],
   "source": [
    "from sklearn.feature_selection import mutual_info_classif"
   ]
  },
  {
   "cell_type": "code",
   "execution_count": 3,
   "id": "dbe0d172-2651-46be-9f04-e09c61f9dad9",
   "metadata": {
    "tags": []
   },
   "outputs": [],
   "source": [
    "# Задание 1\n",
    "# Представьте, что вы решили научить робота для животных отличать собачек от котиков.\n",
    "# Давайте немного посчитаем энтропию, чтобы лучше понять, формализуемость разделения на группы.\n",
    "# Формат записи - энтропия в группе, где переменная равна 0 и энтропия в группе,\n",
    "# где переменная равна 1 (десятичный разделитель - точка, округляйте до 2-ого знака при необходимости)."
   ]
  },
  {
   "cell_type": "code",
   "execution_count": 4,
   "id": "bd8b8118-3709-41f3-ada3-d28af0933070",
   "metadata": {
    "tags": []
   },
   "outputs": [],
   "source": [
    "# Заполните пропуски\n",
    "# Энтропия при разделении по фиче Шерстист в группах, где Шерстист равно 0 и 1 соответственно, составляет _ и _.\n",
    "# Энтропия при разделении по фиче Гавкает в группах, где Гавкает равно 0 и 1 соответственно, составляет _ и _.\n",
    "# Энтропия при разделении по фиче Лазает по деревьям в группах, где эта фича равна 0 и 1 соответственно, составляет _ и _."
   ]
  },
  {
   "cell_type": "code",
   "execution_count": 5,
   "id": "e992e160-f052-4d87-846f-a4c00337119a",
   "metadata": {
    "tags": []
   },
   "outputs": [],
   "source": [
    "df = pd.read_csv(\"https://stepik.org/media/attachments/course/4852/cats.csv\", index_col=0)"
   ]
  },
  {
   "cell_type": "code",
   "execution_count": 6,
   "id": "99dc93db-7231-4c9f-af0c-1b189e9add4a",
   "metadata": {
    "tags": []
   },
   "outputs": [],
   "source": [
    "features = [\"Шерстист\", \"Гавкает\", \"Лазает по деревьям\"]  # названия колонок с фичями\n",
    "target = \"Вид\"  # название колонки с целевым признаком\n",
    "values = (0, 1)"
   ]
  },
  {
   "cell_type": "code",
   "execution_count": 7,
   "id": "37e9a675-ffa6-4c8b-b7ea-32f9298de6cb",
   "metadata": {},
   "outputs": [
    {
     "name": "stdout",
     "output_type": "stream",
     "text": [
      "Шерстист: 0.0 0.99\n",
      "Гавкает: 0.0 0.72\n",
      "Лазает по деревьям: 0.0 0.0\n"
     ]
    }
   ],
   "source": [
    "# Рассчет и вывод энтропии для различных ветвей (base=2 это основание логорифма)\n",
    "for feature in features:\n",
    "    subset = {value: df[target][df[feature] == value].value_counts() for value in values}\n",
    "    entropy_values = [entropy(subset[value], base=2) for value in values]\n",
    "    print(f\"{feature}:\", round(entropy_values[0], 2), round(entropy_values[1], 2))"
   ]
  },
  {
   "cell_type": "code",
   "execution_count": 8,
   "id": "04d1b6d0-5816-46b8-8c04-08666395048f",
   "metadata": {},
   "outputs": [],
   "source": [
    "# Задание 2\n",
    "# Ещё немного арифметики - посчитаем Information Gain по данным из предыдущего задания.\n",
    "# Впишите через пробел округлённые до 2-ого знака значения IG для фичей Шерстист, Гавкает и Лазает по деревьям.\n",
    "# Десятичным разделителем в данном задании является точка."
   ]
  },
  {
   "cell_type": "code",
   "execution_count": 9,
   "id": "f20d48be-787c-432a-a809-2bcf84b93369",
   "metadata": {},
   "outputs": [],
   "source": [
    "X = df[features]  # признаки\n",
    "y = df[target]  # целевая переменная"
   ]
  },
  {
   "cell_type": "code",
   "execution_count": 10,
   "id": "72735a65-240e-4dce-8407-a41b40a6745d",
   "metadata": {},
   "outputs": [
    {
     "name": "stdout",
     "output_type": "stream",
     "text": [
      "Шерстист: 0.08\n",
      "Гавкает: 0.61\n",
      "Лазает по деревьям: 0.97\n"
     ]
    }
   ],
   "source": [
    "information_gain = mutual_info_classif(X, y, discrete_features=[True] * X.shape[1]) * log2(exp(1))\n",
    "IG_list = list(map(lambda x: round(x, 2), information_gain))\n",
    "for feature, IG in zip(features, IG_list):\n",
    "    print(f\"{feature}: {IG}\")"
   ]
  },
  {
   "cell_type": "code",
   "execution_count": null,
   "id": "c4d17ba4-ca26-485f-8094-ba6e301b17a5",
   "metadata": {},
   "outputs": [],
   "source": []
  }
 ],
 "metadata": {
  "kernelspec": {
   "display_name": "Python 3 (ipykernel)",
   "language": "python",
   "name": "python3"
  },
  "language_info": {
   "codemirror_mode": {
    "name": "ipython",
    "version": 3
   },
   "file_extension": ".py",
   "mimetype": "text/x-python",
   "name": "python",
   "nbconvert_exporter": "python",
   "pygments_lexer": "ipython3",
   "version": "3.11.5"
  }
 },
 "nbformat": 4,
 "nbformat_minor": 5
}
